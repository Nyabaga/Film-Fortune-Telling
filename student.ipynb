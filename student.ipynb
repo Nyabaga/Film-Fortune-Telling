{
 "cells": [
  {
   "cell_type": "markdown",
   "id": "5dbafc73",
   "metadata": {},
   "source": [
    "# Film_Fortune_Telling"
   ]
  },
  {
   "cell_type": "markdown",
   "id": "2950c833",
   "metadata": {},
   "source": [
    "> Business Problem : Microsoft wants to start a film company"
   ]
  },
  {
   "cell_type": "code",
   "execution_count": 1,
   "id": "110d0ad9",
   "metadata": {},
   "outputs": [],
   "source": [
    "#Import libraries and packages\n",
    "import pandas as pd "
   ]
  },
  {
   "cell_type": "markdown",
   "id": "c623330b",
   "metadata": {},
   "source": [
    "# Load data "
   ]
  },
  {
   "cell_type": "code",
   "execution_count": null,
   "id": "9bef895a",
   "metadata": {},
   "outputs": [],
   "source": [
    "#  to do\n"
   ]
  }
 ],
 "metadata": {
  "kernelspec": {
   "display_name": "Python 3 (ipykernel)",
   "language": "python",
   "name": "python3"
  },
  "language_info": {
   "codemirror_mode": {
    "name": "ipython",
    "version": 3
   },
   "file_extension": ".py",
   "mimetype": "text/x-python",
   "name": "python",
   "nbconvert_exporter": "python",
   "pygments_lexer": "ipython3",
   "version": "3.11.5"
  }
 },
 "nbformat": 4,
 "nbformat_minor": 5
}
